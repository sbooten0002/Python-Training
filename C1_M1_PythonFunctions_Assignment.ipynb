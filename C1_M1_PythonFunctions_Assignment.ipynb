{
  "nbformat": 4,
  "nbformat_minor": 0,
  "metadata": {
    "colab": {
      "provenance": [],
      "include_colab_link": true
    },
    "kernelspec": {
      "name": "python3",
      "display_name": "Python 3"
    },
    "language_info": {
      "name": "python"
    }
  },
  "cells": [
    {
      "cell_type": "markdown",
      "metadata": {
        "id": "view-in-github",
        "colab_type": "text"
      },
      "source": [
        "<a href=\"https://colab.research.google.com/github/sbooten0002/Python-Training/blob/main/C1_M1_PythonFunctions_Assignment.ipynb\" target=\"_parent\"><img src=\"https://colab.research.google.com/assets/colab-badge.svg\" alt=\"Open In Colab\"/></a>"
      ]
    },
    {
      "cell_type": "markdown",
      "source": [
        "# Let's warm up your knowledge about Python Functions"
      ],
      "metadata": {
        "id": "ppDpsG5-CVRQ"
      }
    },
    {
      "cell_type": "markdown",
      "source": [
        "## Simple functions"
      ],
      "metadata": {
        "id": "oHK8Z4ABCb99"
      }
    },
    {
      "cell_type": "markdown",
      "source": [
        "### Task: Define a function `sayhi()` that:\n",
        "1.  Ask user for an int and save it to `n`.\n",
        "2.  print 'Welcome to Python Functions' n times."
      ],
      "metadata": {
        "id": "yg5W8YfOC1dA"
      }
    },
    {
      "cell_type": "markdown",
      "source": [
        "### Task: Call sayhi()"
      ],
      "metadata": {
        "id": "Gb9EIY26DXD7"
      }
    },
    {
      "cell_type": "markdown",
      "source": [
        "### Task: Define a function `sayhi(n)` that print 'Welcome to Python Functions' `n` times."
      ],
      "metadata": {
        "id": "jNWzC7reDzBK"
      }
    },
    {
      "cell_type": "markdown",
      "source": [
        "### Task: Call sayhi(n) to print out 5 times"
      ],
      "metadata": {
        "id": "nafd3aKWDNZ9"
      }
    },
    {
      "cell_type": "markdown",
      "source": [
        "## Advanced functions"
      ],
      "metadata": {
        "id": "Qq3vg5svD9IC"
      }
    },
    {
      "cell_type": "markdown",
      "source": [
        "### Task: Define a function `sayhi(n)` that:\n",
        "1. `n` is by default 1, if user doesn't pass an argument to the function.\n",
        "2.  print 'Welcome to Python Functions' `n` times."
      ],
      "metadata": {
        "id": "HiO91tK_EALz"
      }
    },
    {
      "cell_type": "markdown",
      "source": [
        "### Task: Call `sayhi(n)` to print out 0, 1, and 5 messages."
      ],
      "metadata": {
        "id": "6kl3LMEDEud4"
      }
    },
    {
      "cell_type": "markdown",
      "source": [
        "### Task: Define a function `sayhi(n, msg)` that:\n",
        "1. `n` is by default 1, if user doesn't pass an argument to the function.\n",
        "1.  `msg` by default is 'Welcome to Python Functions', if user doesn't pass an argument.\n",
        "1.  print `msg` `n` times."
      ],
      "metadata": {
        "id": "xlzwLq_yEZ55"
      }
    },
    {
      "cell_type": "markdown",
      "source": [
        "### Task: Call `sayhi(n, msg)` to print out 0, 1, and 5 'Welcome to Python Functions'."
      ],
      "metadata": {
        "id": "RC0dRnrqE6ZG"
      }
    },
    {
      "cell_type": "markdown",
      "source": [
        "### Task: Call `sayhi(n, msg)` to print out 0, 1, and 5 'yeah'."
      ],
      "metadata": {
        "id": "YZ_vM9tdE_cf"
      }
    },
    {
      "cell_type": "markdown",
      "source": [
        "### Task: Call `sayhi(n, msg)` by keywords to print out 0, 1, and 5 'yeah'."
      ],
      "metadata": {
        "id": "8HoNnuTYFGv5"
      }
    }
  ]
}